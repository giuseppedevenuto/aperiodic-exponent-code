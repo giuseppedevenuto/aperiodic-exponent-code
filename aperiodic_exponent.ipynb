{
 "cells": [
  {
   "cell_type": "code",
   "execution_count": 1,
   "metadata": {},
   "outputs": [
    {
     "name": "stderr",
     "output_type": "stream",
     "text": [
      "C:\\Users\\Giuseppe\\AppData\\Local\\Temp\\ipykernel_30668\\2369273899.py:2: DeprecationWarning: \n",
      "The `fooof` package is being deprecated and replaced by the `specparam` (spectral parameterization) package.\n",
      "This version of `fooof` (1.1) is fully functional, but will not be further updated.\n",
      "New projects are recommended to update to using `specparam` (see Changelog for details).\n",
      "  import fooof\n"
     ]
    },
    {
     "name": "stdout",
     "output_type": "stream",
     "text": [
      "Opening raw data file data/sub-01_ses-02_raw.fif...\n",
      "    Range : 0 ... 260607 =      0.000 ...   508.998 secs\n",
      "Ready.\n",
      "Reading 0 ... 260607  =      0.000 ...   508.998 secs...\n"
     ]
    }
   ],
   "source": [
    "import mne\n",
    "import fooof\n",
    "import numpy as np\n",
    "\n",
    "raw = mne.io.read_raw_fif('data/sub-01_ses-02_raw.fif')\n",
    "raw.load_data()\n",
    "mat_data = raw.get_data()"
   ]
  },
  {
   "cell_type": "code",
   "execution_count": 2,
   "metadata": {},
   "outputs": [],
   "source": [
    "def ApEx(data, sfreq, ch_names, ch_types, freq_aMethod = 'multitaper', fmin = 0, fmax = np.inf, visualCheck = False):\n",
    "    info = mne.create_info(ch_names=ch_names, sfreq=sfreq, ch_types=ch_types)\n",
    "    mneRaw = mne.io.RawArray(data,info)\n",
    "    psd, freq = mneRaw.compute_psd(method=freq_aMethod, fmin=fmin, fmax=fmax).get_data(return_freqs=True)\n",
    "    \n",
    "    exponents = []\n",
    "    for ipsd in psd:\n",
    "        fm = fooof.FOOOF()\n",
    "        fm.fit(freq, ipsd)\n",
    "        exponents.append(fm.get_params('aperiodic_params', col='exponent'))\n",
    "        if visualCheck:\n",
    "            fm.report(freq, ipsd, plt_log = True)\n",
    "\n",
    "    return np.array(exponents)"
   ]
  },
  {
   "cell_type": "code",
   "execution_count": 3,
   "metadata": {},
   "outputs": [
    {
     "name": "stdout",
     "output_type": "stream",
     "text": [
      "Creating RawArray with float64 data, n_channels=32, n_times=260608\n",
      "    Range : 0 ... 260607 =      0.000 ...   508.998 secs\n",
      "Ready.\n"
     ]
    },
    {
     "name": "stdout",
     "output_type": "stream",
     "text": [
      "    Using multitaper spectrum estimation with 1 DPSS windows\n"
     ]
    },
    {
     "name": "stderr",
     "output_type": "stream",
     "text": [
      "C:\\Users\\Giuseppe\\AppData\\Local\\Temp\\ipykernel_30668\\3406974402.py:4: RuntimeWarning: Could not properly use low_bias, keeping lowest-bias taper\n",
      "  psd, freq = mneRaw.compute_psd(method=freq_aMethod, fmin=fmin, fmax=fmax).get_data(return_freqs=True)\n"
     ]
    }
   ],
   "source": [
    "# For conversion to .fif type\n",
    "sfreq = 512\n",
    "ch_names = [str(i) for i in range(len(mat_data))]\n",
    "ch_types = 'eeg'\n",
    "\n",
    "# For Spectral Analysis\n",
    "freq_aMethod = 'multitaper'                         # 'welch' or 'multitaper' \n",
    "fmin = 1\n",
    "fmax = 30\n",
    "\n",
    "exponents = ApEx(mat_data, sfreq, ch_names, ch_types, freq_aMethod, fmin, fmax, visualCheck = False)"
   ]
  }
 ],
 "metadata": {
  "kernelspec": {
   "display_name": ".venv",
   "language": "python",
   "name": "python3"
  },
  "language_info": {
   "codemirror_mode": {
    "name": "ipython",
    "version": 3
   },
   "file_extension": ".py",
   "mimetype": "text/x-python",
   "name": "python",
   "nbconvert_exporter": "python",
   "pygments_lexer": "ipython3",
   "version": "3.12.0"
  }
 },
 "nbformat": 4,
 "nbformat_minor": 2
}
