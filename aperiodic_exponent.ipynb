{
 "cells": [
  {
   "cell_type": "code",
   "execution_count": null,
   "metadata": {},
   "outputs": [],
   "source": [
    "import mne\n",
    "import fooof\n",
    "import numpy as np\n",
    "\n",
    "raw = mne.io.read_raw_fif('data/sub-01_ses-02_raw.fif')\n",
    "raw.load_data()\n",
    "mat_data = raw.get_data()"
   ]
  },
  {
   "cell_type": "code",
   "execution_count": null,
   "metadata": {},
   "outputs": [],
   "source": [
    "def ApEx(data, sfreq, ch_names, ch_types, freq_aMethod = 'multitaper', fmin = 0, fmax = np.inf, visualCheck = False):\n",
    "    info = mne.create_info(ch_names=ch_names, sfreq=sfreq, ch_types=ch_types)\n",
    "    mneRaw = mne.io.RawArray(data,info)\n",
    "    psd, freq = mneRaw.compute_psd(method=freq_aMethod, fmin=fmin, fmax=fmax).get_data(return_freqs=True)\n",
    "    \n",
    "    exponents = []\n",
    "    for ipsd in psd:\n",
    "        fm = fooof.FOOOF()\n",
    "        fm.fit(freq, ipsd)\n",
    "        exponents.append(fm.get_params('aperiodic_params', col='exponent'))\n",
    "        if visualCheck:\n",
    "            fm.report(freq, ipsd, plt_log = True)\n",
    "\n",
    "    return np.array(exponents)"
   ]
  },
  {
   "cell_type": "code",
   "execution_count": null,
   "metadata": {},
   "outputs": [],
   "source": [
    "# For conversion to .fif type\n",
    "sfreq = 512\n",
    "ch_names = [str(i) for i in range(len(mat_data))]\n",
    "ch_types = 'eeg'\n",
    "\n",
    "# For Spectral Analysis\n",
    "freq_aMethod = 'multitaper'                         # 'welch' or 'multitaper' \n",
    "fmin = 1\n",
    "fmax = 30\n",
    "\n",
    "exponents = ApEx(mat_data, sfreq, ch_names, ch_types, freq_aMethod, fmin, fmax, visualCheck = False)"
   ]
  }
 ],
 "metadata": {
  "kernelspec": {
   "display_name": ".venv",
   "language": "python",
   "name": "python3"
  },
  "language_info": {
   "codemirror_mode": {
    "name": "ipython",
    "version": 3
   },
   "file_extension": ".py",
   "mimetype": "text/x-python",
   "name": "python",
   "nbconvert_exporter": "python",
   "pygments_lexer": "ipython3",
   "version": "3.12.0"
  }
 },
 "nbformat": 4,
 "nbformat_minor": 2
}
